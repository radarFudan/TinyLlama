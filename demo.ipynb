{
 "cells": [
  {
   "cell_type": "code",
   "execution_count": 1,
   "metadata": {},
   "outputs": [
    {
     "ename": "ModuleNotFoundError",
     "evalue": "No module named 'lightning_utilities'",
     "output_type": "error",
     "traceback": [
      "\u001b[0;31m---------------------------------------------------------------------------\u001b[0m",
      "\u001b[0;31mModuleNotFoundError\u001b[0m                       Traceback (most recent call last)",
      "\u001b[1;32m/home/aiops/wangsd/TinyLlama_3/demo.ipynb Cell 1\u001b[0m line \u001b[0;36m6\n\u001b[1;32m      <a href='vscode-notebook-cell://ssh-remote%2Bmalay/home/aiops/wangsd/TinyLlama_3/demo.ipynb#W0sdnNjb2RlLXJlbW90ZQ%3D%3D?line=3'>4</a>\u001b[0m \u001b[39mimport\u001b[39;00m \u001b[39mtorch\u001b[39;00m\n\u001b[1;32m      <a href='vscode-notebook-cell://ssh-remote%2Bmalay/home/aiops/wangsd/TinyLlama_3/demo.ipynb#W0sdnNjb2RlLXJlbW90ZQ%3D%3D?line=4'>5</a>\u001b[0m \u001b[39mimport\u001b[39;00m \u001b[39mtorch\u001b[39;00m\u001b[39m.\u001b[39;00m\u001b[39mnn\u001b[39;00m \u001b[39mas\u001b[39;00m \u001b[39mnn\u001b[39;00m\n\u001b[0;32m----> <a href='vscode-notebook-cell://ssh-remote%2Bmalay/home/aiops/wangsd/TinyLlama_3/demo.ipynb#W0sdnNjb2RlLXJlbW90ZQ%3D%3D?line=5'>6</a>\u001b[0m \u001b[39mfrom\u001b[39;00m \u001b[39mlightning_utilities\u001b[39;00m\u001b[39m.\u001b[39;00m\u001b[39mcore\u001b[39;00m\u001b[39m.\u001b[39;00m\u001b[39mimports\u001b[39;00m \u001b[39mimport\u001b[39;00m RequirementCache\n\u001b[1;32m      <a href='vscode-notebook-cell://ssh-remote%2Bmalay/home/aiops/wangsd/TinyLlama_3/demo.ipynb#W0sdnNjb2RlLXJlbW90ZQ%3D%3D?line=6'>7</a>\u001b[0m \u001b[39mfrom\u001b[39;00m \u001b[39mtyping_extensions\u001b[39;00m \u001b[39mimport\u001b[39;00m Self\n\u001b[1;32m      <a href='vscode-notebook-cell://ssh-remote%2Bmalay/home/aiops/wangsd/TinyLlama_3/demo.ipynb#W0sdnNjb2RlLXJlbW90ZQ%3D%3D?line=7'>8</a>\u001b[0m \u001b[39mfrom\u001b[39;00m \u001b[39mflash_attn\u001b[39;00m \u001b[39mimport\u001b[39;00m flash_attn_func\n",
      "\u001b[0;31mModuleNotFoundError\u001b[0m: No module named 'lightning_utilities'"
     ]
    }
   ],
   "source": [
    "import math\n",
    "from typing import Any, List, Optional, Tuple\n",
    "\n",
    "import torch\n",
    "import torch.nn as nn\n",
    "from lightning_utilities.core.imports import RequirementCache\n",
    "from typing_extensions import Self\n",
    "from flash_attn import flash_attn_func\n",
    "from lit_gpt.config import Config\n",
    "from xformers.ops import SwiGLU\n",
    "from .fused_rotary_embedding import apply_rotary_emb_func\n",
    "RoPECache = Tuple[torch.Tensor, torch.Tensor]\n",
    "KVCache = Tuple[torch.Tensor, torch.Tensor]\n",
    "FlashAttention2Available = RequirementCache(\"flash-attn>=2.0.0.post1\")\n",
    "\n",
    "from lit_gpt.associative_scan import associative_scan, nested_func\n",
    "\n",
    "from lit_gpt.retnet import RetNetDecoder\n",
    "from lit_gpt.retnet_config import RetNetConfig\n",
    "\n",
    "import einops"
   ]
  },
  {
   "cell_type": "code",
   "execution_count": null,
   "metadata": {},
   "outputs": [],
   "source": [
    "retnet_config = RetNetConfig()\n",
    "args = {\"dropout\": config.retnet_dropout}\n",
    "retnet_config.override(args) # Can you a config file to overwrite the previous config. \n",
    "self.attn = RetNetDecoder(retnet_config)\n",
    "\n",
    "inputs = torch.randn(1, 1024, 768)"
   ]
  }
 ],
 "metadata": {
  "kernelspec": {
   "display_name": "Python 3 (ipykernel)",
   "language": "python",
   "name": "python3"
  },
  "language_info": {
   "codemirror_mode": {
    "name": "ipython",
    "version": 3
   },
   "file_extension": ".py",
   "mimetype": "text/x-python",
   "name": "python",
   "nbconvert_exporter": "python",
   "pygments_lexer": "ipython3",
   "version": "3.10.12"
  }
 },
 "nbformat": 4,
 "nbformat_minor": 2
}
