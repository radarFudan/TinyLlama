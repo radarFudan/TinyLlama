{
 "cells": [
  {
   "cell_type": "code",
   "execution_count": null,
   "metadata": {},
   "outputs": [],
   "source": [
    "import glob\n",
    "import math\n",
    "import sys\n",
    "import time\n",
    "from pathlib import Path\n",
    "from typing import Optional, Tuple, Union\n",
    "import math\n",
    "import lightning as L\n",
    "import torch\n",
    "from lightning.fabric.strategies import FSDPStrategy, XLAStrategy\n",
    "from torch.utils.data import DataLoader\n",
    "from functools import partial\n",
    "# support running without installing as a package\n",
    "wd = Path(__file__).parent.parent.resolve()\n",
    "sys.path.append(str(wd))\n",
    "# from apex.optimizers import FusedAdam #torch optimizer has a cuda backend, which is faster actually\n",
    "from lit_gpt.model import GPT, Block, Config, CausalSelfAttention\n",
    "from lit_gpt.packed_dataset import CombinedDataset, PackedDataset\n",
    "from lit_gpt.speed_monitor import SpeedMonitorFabric as Monitor\n",
    "from lit_gpt.speed_monitor import estimate_flops, measure_flops\n",
    "from lit_gpt.utils import chunked_cross_entropy, get_default_supported_precision, num_parameters, step_csv_logger, lazy_load\n",
    "from pytorch_lightning.loggers import WandbLogger\n",
    "from lit_gpt import FusedCrossEntropyLoss\n",
    "import random"
   ]
  },
  {
   "cell_type": "code",
   "execution_count": null,
   "metadata": {},
   "outputs": [],
   "source": [
    "# Load Checkpoint\n",
    "\n",
    "devices = 1\n",
    "strategy = \"auto\"\n",
    "precision = get_default_supported_precision(training=True, tpu=tpu)\n",
    "\n",
    "fabric = L.Fabric(devices=devices, strategy=strategy, precision=precision, loggers=[logger, wandb_logger])\n",
    "fabric.print(hparams)\n",
    "\n",
    "out_dir = None \n",
    "\n",
    "resume = sorted(out_dir.glob(\"*.pth\"))[-1]\n",
    "if resume :\n",
    "    fabric.print(f\"Resuming training from {resume}\")\n",
    "    fabric.load(resume, state)"
   ]
  },
  {
   "cell_type": "code",
   "execution_count": null,
   "metadata": {},
   "outputs": [],
   "source": []
  },
  {
   "cell_type": "code",
   "execution_count": null,
   "metadata": {},
   "outputs": [],
   "source": []
  },
  {
   "cell_type": "code",
   "execution_count": null,
   "metadata": {},
   "outputs": [],
   "source": []
  }
 ],
 "metadata": {
  "language_info": {
   "name": "python"
  }
 },
 "nbformat": 4,
 "nbformat_minor": 2
}
